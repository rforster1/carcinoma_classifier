{
 "cells": [
  {
   "cell_type": "code",
   "execution_count": 1,
   "id": "6f8e8653",
   "metadata": {
    "colab": {
     "base_uri": "https://localhost:8080/"
    },
    "id": "6f8e8653",
    "outputId": "353edb87-2262-4ac6-99a7-c4f1dd7be060"
   },
   "outputs": [
    {
     "name": "stderr",
     "output_type": "stream",
     "text": [
      "/home/rphorsterphages_gmail_com/miniconda3/lib/python3.8/site-packages/scipy/__init__.py:146: UserWarning: A NumPy version >=1.16.5 and <1.23.0 is required for this version of SciPy (detected version 1.23.5\n",
      "  warnings.warn(f\"A NumPy version >={np_minversion} and <{np_maxversion}\"\n"
     ]
    },
    {
     "name": "stdout",
     "output_type": "stream",
     "text": [
      "Requirement already satisfied: kaggle in ./miniconda3/lib/python3.8/site-packages (1.5.13)\n",
      "Requirement already satisfied: urllib3 in ./miniconda3/lib/python3.8/site-packages (from kaggle) (1.26.13)\n",
      "Requirement already satisfied: six>=1.10 in ./miniconda3/lib/python3.8/site-packages (from kaggle) (1.16.0)\n",
      "Requirement already satisfied: python-slugify in ./miniconda3/lib/python3.8/site-packages (from kaggle) (8.0.1)\n",
      "Requirement already satisfied: tqdm in ./miniconda3/lib/python3.8/site-packages (from kaggle) (4.64.1)\n",
      "Requirement already satisfied: requests in ./miniconda3/lib/python3.8/site-packages (from kaggle) (2.28.1)\n",
      "Requirement already satisfied: python-dateutil in ./miniconda3/lib/python3.8/site-packages (from kaggle) (2.8.2)\n",
      "Requirement already satisfied: certifi in ./miniconda3/lib/python3.8/site-packages (from kaggle) (2022.12.7)\n",
      "Requirement already satisfied: text-unidecode>=1.3 in ./miniconda3/lib/python3.8/site-packages (from python-slugify->kaggle) (1.3)\n",
      "Requirement already satisfied: idna<4,>=2.5 in ./miniconda3/lib/python3.8/site-packages (from requests->kaggle) (3.4)\n",
      "Requirement already satisfied: charset-normalizer<3,>=2 in ./miniconda3/lib/python3.8/site-packages (from requests->kaggle) (2.0.4)\n",
      "\u001b[33mWARNING: Error parsing requirements for biopython: [Errno 2] No such file or directory: '/home/rphorsterphages_gmail_com/miniconda3/lib/python3.8/site-packages/biopython-1.79.dist-info/METADATA'\u001b[0m\u001b[33m\n",
      "\u001b[0m"
     ]
    }
   ],
   "source": [
    "import torch\n",
    "import torch.nn as nn\n",
    "import torchvision.models as models\n",
    "import torchvision.transforms as transforms\n",
    "from torchvision.datasets import ImageFolder\n",
    "from torch.utils.data import DataLoader, Dataset, WeightedRandomSampler\n",
    "import glob\n",
    "import fnmatch \n",
    "import matplotlib.pyplot as plt\n",
    "import matplotlib.image as mpimg\n",
    "from sklearn.metrics import roc_curve, auc, f1_score, confusion_matrix, balanced_accuracy_score\n",
    "from sklearn.model_selection import train_test_split\n",
    "import os\n",
    "from tqdm import tqdm\n",
    "from collections import Counter\n",
    "import concurrent.futures\n",
    "from functools import partial\n",
    "from PIL import Image\n",
    "from os import listdir\n",
    "import pandas as pd\n",
    "import numpy as np\n",
    "\n",
    "!pip install kaggle\n"
   ]
  },
  {
   "cell_type": "code",
   "execution_count": 2,
   "id": "5049e69c",
   "metadata": {
    "id": "5049e69c"
   },
   "outputs": [],
   "source": [
    "# Define custom dataset\n",
    "class BreastCancerDataset(Dataset):\n",
    "    def __init__(self, image_paths, labels, transform=None):\n",
    "        self.image_paths = image_paths\n",
    "        self.labels = labels\n",
    "        self.transform = transform\n",
    "\n",
    "    def __len__(self):\n",
    "        return len(self.image_paths)\n",
    "\n",
    "    def __getitem__(self, index):\n",
    "        image_path = self.image_paths[index]\n",
    "        label = self.labels[index]\n",
    "\n",
    "        image = Image.open(image_path)\n",
    "\n",
    "        if self.transform:\n",
    "            image = self.transform(image)\n",
    "\n",
    "        return image, label"
   ]
  },
  {
   "cell_type": "markdown",
   "id": "c9507df3",
   "metadata": {},
   "source": [
    "The below section has three code blocks to 1) download the dataset and extracts labels. 2) download the dataset and load the extracted labels and 3) just extract the labels. This is so you don't have to re-download or extract labels."
   ]
  },
  {
   "cell_type": "code",
   "execution_count": null,
   "id": "0caf1bed",
   "metadata": {
    "colab": {
     "base_uri": "https://localhost:8080/"
    },
    "id": "0caf1bed",
    "outputId": "efc5ed12-44de-43c1-ef13-866133451767"
   },
   "outputs": [
    {
     "name": "stdout",
     "output_type": "stream",
     "text": [
      "Warning: Your Kaggle API key is readable by other users on this system! To fix this, you can run 'chmod 600 /root/.kaggle/kaggle.json'\n",
      "Downloading breast-histopathology-images.zip to /content\n",
      "100% 3.10G/3.10G [02:27<00:00, 24.1MB/s]\n",
      "100% 3.10G/3.10G [02:27<00:00, 22.6MB/s]\n",
      "555048\n",
      "dataset_path/13401/1/13401_idx5_x1701_y801_class1.png\n"
     ]
    },
    {
     "name": "stderr",
     "output_type": "stream",
     "text": [
      "100%|██████████| 555048/555048 [34:05<00:00, 271.35it/s]\n"
     ]
    }
   ],
   "source": [
    "\n",
    "# Set the paths for the Kaggle data\n",
    "dataset_zip_path = 'breast-histopathology-images.zip'\n",
    "dataset_extracted_path = 'dataset_path'\n",
    "\n",
    "# Check if the dataset directory already exists\n",
    "if not os.path.exists(dataset_extracted_path):\n",
    "    # Check if the dataset zip file already exists\n",
    "    if not os.path.exists(dataset_zip_path):\n",
    "        # Move the Kaggle API file\n",
    "        !mkdir -p ~/.kaggle\n",
    "        !mv kaggle.json ~/.kaggle/\n",
    "        # Download the Kaggle dataset\n",
    "        !kaggle datasets download -d paultimothymooney/breast-histopathology-images\n",
    "        # Extract the dataset\n",
    "        !unzip -q breast-histopathology-images.zip -d $dataset_extracted_path\n",
    "    else:\n",
    "        print(\"Dataset zip file already exists.\")\n",
    "else:\n",
    "    print(\"Dataset directory already exists.\")\n",
    "\n",
    "# Set the paths to the downloaded dataset\n",
    "image_paths = glob.glob('dataset_path/*/*/*.png', recursive=True)\n",
    "print(len(image_paths))\n",
    "print(image_paths[0])\n",
    "\n",
    "# get labels\n",
    "patternZero = '*class0.png'\n",
    "patternOne = '*class1.png'\n",
    "classZero = fnmatch.filter(image_paths, patternZero)\n",
    "classOne = fnmatch.filter(image_paths, patternOne)\n",
    "\n",
    "\n",
    "labels = []\n",
    "\n",
    "def process_image(img, classZero, classOne):\n",
    "    if img in classZero:\n",
    "        return 0\n",
    "    elif img in classOne:\n",
    "        return 1\n",
    "\n",
    "def process_images_parallel(image_paths, classZero, classOne):\n",
    "    with concurrent.futures.ThreadPoolExecutor() as executor:\n",
    "        process_func = partial(process_image, classZero=classZero, classOne=classOne)\n",
    "        labels = list(tqdm(executor.map(process_func, image_paths), total=len(image_paths)))\n",
    "    return labels\n",
    "\n",
    "labels = process_images_parallel(image_paths, classZero, classOne)\n"
   ]
  },
  {
   "cell_type": "code",
   "execution_count": 11,
   "id": "qxiHnHAqA42-",
   "metadata": {
    "colab": {
     "base_uri": "https://localhost:8080/"
    },
    "id": "qxiHnHAqA42-",
    "outputId": "c69782d8-2088-45ee-906c-e833d661a40d"
   },
   "outputs": [
    {
     "name": "stdout",
     "output_type": "stream",
     "text": [
      "Warning: Your Kaggle API key is readable by other users on this system! To fix this, you can run 'chmod 600 /home/rphorsterphages_gmail_com/.kaggle/kaggle.json'\n",
      "Downloading breast-histopathology-images.zip to /home/rphorsterphages_gmail_com\n",
      "100%|█████████████████████████████████████▉| 3.09G/3.10G [00:14<00:00, 78.6MB/s]\n",
      "100%|███████████████████████████████████████| 3.10G/3.10G [00:14<00:00, 224MB/s]\n",
      "555048\n",
      "dataset_path/12818/0/12818_idx5_x2551_y2051_class0.png\n"
     ]
    }
   ],
   "source": [
    "# Set the paths for the Kaggle data\n",
    "dataset_zip_path = 'breast-histopathology-images.zip'\n",
    "dataset_extracted_path = 'dataset_path'\n",
    "\n",
    "# Check if the dataset directory already exists\n",
    "if not os.path.exists(dataset_extracted_path):\n",
    "    # Check if the dataset zip file already exists\n",
    "    if not os.path.exists(dataset_zip_path):\n",
    "        # Move the Kaggle API file\n",
    "        !mkdir -p ~/.kaggle\n",
    "        !mv kaggle.json ~/.kaggle/\n",
    "        # Download the Kaggle dataset\n",
    "        !kaggle datasets download -d paultimothymooney/breast-histopathology-images\n",
    "        # Extract the dataset\n",
    "        !unzip -q breast-histopathology-images.zip -d $dataset_extracted_path\n",
    "    else:\n",
    "        print(\"Dataset zip file already exists.\")\n",
    "else:\n",
    "    print(\"Dataset directory already exists.\")\n",
    "\n",
    "# Set the paths to the downloaded dataset\n",
    "image_paths = glob.glob('dataset_path/*/*/*.png', recursive=True)\n",
    "print(len(image_paths))\n",
    "print(image_paths[0])\n",
    "labels = []\n",
    "with open('labels.txt', 'r') as file:\n",
    "    for line in file:\n",
    "        label = int(line.strip())\n",
    "        labels.append(label)"
   ]
  },
  {
   "cell_type": "code",
   "execution_count": 3,
   "id": "PqJ1swfaTE-W",
   "metadata": {
    "colab": {
     "base_uri": "https://localhost:8080/"
    },
    "id": "PqJ1swfaTE-W",
    "outputId": "81162fd1-ba72-44fa-a1ef-d4bc5e9c75d8"
   },
   "outputs": [
    {
     "name": "stdout",
     "output_type": "stream",
     "text": [
      "277524\n",
      "dataset_path/12818/0/12818_idx5_x2551_y2051_class0.png\n",
      "277524\n"
     ]
    }
   ],
   "source": [
    "# Set the paths to the downloaded dataset\n",
    "dataset_extracted_path = 'dataset_path'\n",
    "image_paths = glob.glob('dataset_path/*/*/*.png', recursive=True)\n",
    "print(len(image_paths))\n",
    "print(image_paths[0])\n",
    "labels = []\n",
    "with open('labels.txt', 'r') as file:\n",
    "    for line in file:\n",
    "        label = int(line.strip())\n",
    "        labels.append(label)\n",
    "print(len(labels))"
   ]
  },
  {
   "cell_type": "markdown",
   "id": "35787b8d",
   "metadata": {},
   "source": [
    "The block below uses the images with no patient context to grab positive and negative samples for invasive ductal carcinoma. What you will see is that it is very hard to tell the difference and may require patient context, also we might have leakage into test set and ideally we want to test on a different distributions to truely validate the model. https://datascience.stanford.edu/news/splitting-data-randomly-can-ruin-your-model"
   ]
  },
  {
   "cell_type": "code",
   "execution_count": 4,
   "id": "a3552b4d",
   "metadata": {},
   "outputs": [
    {
     "data": {
      "image/png": "[encoded data removed]",
      "text/plain": [
       "<Figure size 640x480 with 1 Axes>"
      ]
     },
     "metadata": {},
     "output_type": "display_data"
    },
    {
     "data": {
      "image/png": "[encoded data removed]",
      "text/plain": [
       "<Figure size 640x480 with 1 Axes>"
      ]
     },
     "metadata": {},
     "output_type": "display_data"
    }
   ],
   "source": [
    "# Assuming 'image_paths' contains the paths to the images\n",
    "# Assuming 'labels' contains the corresponding labels (0 for negative, 1 for positive)\n",
    "\n",
    "# Find the indices of positive and negative examples\n",
    "positive_indices = [i for i, label in enumerate(labels) if label == 1]\n",
    "negative_indices = [i for i, label in enumerate(labels) if label == 0]\n",
    "\n",
    "# Display a positive image\n",
    "positive_image_path = image_paths[positive_indices[1]]\n",
    "positive_image = mpimg.imread(positive_image_path)\n",
    "plt.imshow(positive_image)\n",
    "plt.title(\"Positive Example\")\n",
    "plt.axis('off')\n",
    "plt.show()\n",
    "\n",
    "# Display a negative image\n",
    "negative_image_path = image_paths[negative_indices[200]]\n",
    "negative_image = mpimg.imread(negative_image_path)\n",
    "plt.imshow(negative_image)\n",
    "plt.title(\"Negative Example\")\n",
    "plt.axis('off')\n",
    "plt.show()"
   ]
  },
  {
   "cell_type": "markdown",
   "id": "1539d27b",
   "metadata": {},
   "source": [
    "To provide pateint context I will create a dataframe with patient ids, image paths and target/labels that I can use to split data by patient."
   ]
  },
  {
   "cell_type": "code",
   "execution_count": 5,
   "id": "bdf13b6d",
   "metadata": {},
   "outputs": [
    {
     "data": {
      "text/html": [
       "<div>\n",
       "<style scoped>\n",
       "    .dataframe tbody tr th:only-of-type {\n",
       "        vertical-align: middle;\n",
       "    }\n",
       "\n",
       "    .dataframe tbody tr th {\n",
       "        vertical-align: top;\n",
       "    }\n",
       "\n",
       "    .dataframe thead th {\n",
       "        text-align: right;\n",
       "    }\n",
       "</style>\n",
       "<table border=\"1\" class=\"dataframe\">\n",
       "  <thead>\n",
       "    <tr style=\"text-align: right;\">\n",
       "      <th></th>\n",
       "      <th>patient_id</th>\n",
       "      <th>path</th>\n",
       "      <th>target</th>\n",
       "    </tr>\n",
       "  </thead>\n",
       "  <tbody>\n",
       "    <tr>\n",
       "      <th>0</th>\n",
       "      <td>12818</td>\n",
       "      <td>dataset_path/12818/0/12818_idx5_x2551_y2051_cl...</td>\n",
       "      <td>0</td>\n",
       "    </tr>\n",
       "    <tr>\n",
       "      <th>1</th>\n",
       "      <td>12818</td>\n",
       "      <td>dataset_path/12818/0/12818_idx5_x851_y1451_cla...</td>\n",
       "      <td>0</td>\n",
       "    </tr>\n",
       "    <tr>\n",
       "      <th>2</th>\n",
       "      <td>12818</td>\n",
       "      <td>dataset_path/12818/0/12818_idx5_x1251_y901_cla...</td>\n",
       "      <td>0</td>\n",
       "    </tr>\n",
       "    <tr>\n",
       "      <th>3</th>\n",
       "      <td>12818</td>\n",
       "      <td>dataset_path/12818/0/12818_idx5_x3651_y1651_cl...</td>\n",
       "      <td>0</td>\n",
       "    </tr>\n",
       "    <tr>\n",
       "      <th>4</th>\n",
       "      <td>12818</td>\n",
       "      <td>dataset_path/12818/0/12818_idx5_x1651_y1951_cl...</td>\n",
       "      <td>0</td>\n",
       "    </tr>\n",
       "  </tbody>\n",
       "</table>\n",
       "</div>"
      ],
      "text/plain": [
       "  patient_id                                               path target\n",
       "0      12818  dataset_path/12818/0/12818_idx5_x2551_y2051_cl...      0\n",
       "1      12818  dataset_path/12818/0/12818_idx5_x851_y1451_cla...      0\n",
       "2      12818  dataset_path/12818/0/12818_idx5_x1251_y901_cla...      0\n",
       "3      12818  dataset_path/12818/0/12818_idx5_x3651_y1651_cl...      0\n",
       "4      12818  dataset_path/12818/0/12818_idx5_x1651_y1951_cl...      0"
      ]
     },
     "execution_count": 5,
     "metadata": {},
     "output_type": "execute_result"
    }
   ],
   "source": [
    "dataset_patient_path = \"dataset_path/\"\n",
    "folder = os.listdir(dataset_patient_path)\n",
    "\n",
    "num_images = len(image_paths)\n",
    "data = pd.DataFrame(index=range(num_images), columns=[\"patient_id\", \"path\", \"target\"])\n",
    "\n",
    "k = 0\n",
    "for n in range(len(folder)):\n",
    "    patient_id = folder[n]\n",
    "    if patient_id == \"IDC_regular_ps50_idx5\":\n",
    "        continue  # Skip the IDC_regular_ps50_idx5 folder\n",
    "        \n",
    "    patient_path = os.path.join(dataset_patient_path, patient_id)\n",
    "    \n",
    "    for c in [0, 1]:\n",
    "        class_path = os.path.join(patient_path, str(c))\n",
    "        subfiles = os.listdir(class_path)\n",
    "        \n",
    "        data.loc[k:k+len(subfiles)-1, \"path\"] = [os.path.join(class_path, subfile) for subfile in subfiles]\n",
    "        data.loc[k:k+len(subfiles)-1, \"target\"] = c\n",
    "        data.loc[k:k+len(subfiles)-1, \"patient_id\"] = patient_id\n",
    "        \n",
    "        k += len(subfiles)\n",
    "\n",
    "data.reset_index(drop=True, inplace=True)\n",
    "data.head()"
   ]
  },
  {
   "cell_type": "markdown",
   "id": "f871b791",
   "metadata": {},
   "source": [
    "To prevent overfitting I flipped the photos randomly and I normalized the data using imagenet to train relative to the distribution of the pretrained model's."
   ]
  },
  {
   "cell_type": "code",
   "execution_count": 6,
   "id": "17e1fe5b",
   "metadata": {},
   "outputs": [],
   "source": [
    "##########################Training with patient context:\n",
    "\n",
    "patients = data.patient_id.unique()\n",
    "\n",
    "\n",
    "train_ids, sub_test_ids = train_test_split(patients,\n",
    "                                           test_size=0.3,\n",
    "                                           random_state=42)\n",
    "test_ids, dev_ids = train_test_split(sub_test_ids, test_size=0.5, random_state=42)\n",
    "\n",
    "\n",
    "train_df = data[data.patient_id.isin(train_ids)]\n",
    "dev_df = data[data.patient_id.isin(dev_ids)]\n",
    "test_df = data[data.patient_id.isin(test_ids)]\n",
    "\n",
    "train_image_paths = list(train_df['path'])\n",
    "train_labels = list(train_df['target'])\n",
    "dev_image_paths = list(dev_df['path'])\n",
    "dev_labels = list(dev_df['target'])\n",
    "test_image_paths = list(test_df['path'])\n",
    "test_labels = list(test_df['target'])\n",
    "\n",
    "transform = transforms.Compose([\n",
    "    transforms.Resize((50,50)),\n",
    "    transforms.RandomHorizontalFlip(),\n",
    "    transforms.RandomVerticalFlip(),\n",
    "    transforms.ToTensor(),\n",
    "    transforms.Normalize(mean=[0.485, 0.456, 0.406], std= [0.229, 0.224, 0.225])\n",
    "])\n",
    "\n",
    "class_freq = Counter(train_df['target'])\n",
    "total_samples = len(train_df['target'])\n",
    "class_weights = [total_samples / (class_freq[i] * len(class_freq)) for i in range(len(class_freq))]\n",
    "class_weights = torch.tensor(class_weights, dtype=torch.double)\n",
    "sample_weights = [class_weights[label] for label in train_df['target']]\n",
    "sampler = WeightedRandomSampler(sample_weights, len(train_labels), replacement=True)\n",
    "\n",
    "\n",
    "\n",
    "\n",
    "train_dataset = BreastCancerDataset(train_image_paths, train_labels, transform=transform)\n",
    "dev_dataset = BreastCancerDataset(dev_image_paths, dev_labels, transform=transform)\n",
    "test_dataset = BreastCancerDataset(test_image_paths, test_labels, transform=transform)\n",
    "\n",
    "\n",
    "batch_size = 32\n",
    "#train_dataloader = DataLoader(train_dataset, batch_size=batch_size, sampler=sampler, num_workers=32 ,pin_memory=True)\n",
    "train_dataloader = DataLoader(train_dataset, batch_size=batch_size, shuffle=True, num_workers=32 ,pin_memory=True)#########################"
   ]
  },
  {
   "cell_type": "markdown",
   "id": "cc050af3",
   "metadata": {},
   "source": [
    "I am using Swin Transformer, the model is likely overkill, however I want to play with the latest model architecture for computer vision tasks and compare to the model orignally used on this dataset. SwinTransformer:https://openaccess.thecvf.com/content/CVPR2022/papers/Liu_Swin_Transformer_V2_Scaling_Up_Capacity_and_Resolution_CVPR_2022_paper.pdf "
   ]
  },
  {
   "cell_type": "code",
   "execution_count": 7,
   "id": "e2bbeb67",
   "metadata": {
    "colab": {
     "base_uri": "https://localhost:8080/"
    },
    "id": "e2bbeb67",
    "outputId": "6d64b096-f141-49ec-9237-b4016b4b8409"
   },
   "outputs": [
    {
     "name": "stderr",
     "output_type": "stream",
     "text": [
      "/tmp/ipykernel_27882/2846083555.py:22: UserWarning: To copy construct from a tensor, it is recommended to use sourceTensor.clone().detach() or sourceTensor.clone().detach().requires_grad_(True), rather than torch.tensor(sourceTensor).\n",
      "  class_weights_tensor = torch.tensor(class_weights, dtype=torch.float32)\n"
     ]
    }
   ],
   "source": [
    "# Load the pre-trained model\n",
    "model = models.swin_v2_t(weights='DEFAULT')\n",
    "# Freeze all layers except the last one\n",
    "for param in model.parameters():\n",
    "    param.requires_grad = False\n",
    "\n",
    "# Replace the last fully connected layer with a new one\n",
    "num_ftrs = model.head.in_features\n",
    "model.head = nn.Sequential(\n",
    "    nn.Linear(num_ftrs, 1024),\n",
    "    nn.BatchNorm1d(1024),  # BatchNorm layer added\n",
    "    nn.ReLU(),\n",
    "    nn.Dropout(0.5),\n",
    "    nn.Linear(1024, 512),\n",
    "    nn.BatchNorm1d(512),  # BatchNorm layer added\n",
    "    nn.ReLU(),\n",
    "    nn.Dropout(0.5),\n",
    "    nn.Linear(512, 2)\n",
    ")\n",
    "\n",
    "# Define the loss function and optimizer (uses frequency weights)\n",
    "class_weights_tensor = torch.tensor(class_weights, dtype=torch.float32)\n",
    "criterion = nn.CrossEntropyLoss(weight=class_weights_tensor)\n",
    "#criterion = nn.CrossEntropyLoss()\n",
    "optimizer = torch.optim.Adam(model.parameters(), lr=0.0001, weight_decay = 0.0001)\n",
    "scheduler = torch.optim.lr_scheduler.StepLR(optimizer, step_size=5, gamma=0.1)\n"
   ]
  },
  {
   "cell_type": "code",
   "execution_count": 8,
   "id": "d96e4f75",
   "metadata": {
    "colab": {
     "base_uri": "https://localhost:8080/"
    },
    "id": "d96e4f75",
    "outputId": "f64bb86b-babc-4675-dcbd-be4338d31214"
   },
   "outputs": [
    {
     "name": "stderr",
     "output_type": "stream",
     "text": [
      "  3%|████▏                                                                                                                        | 1/30 [16:26<7:56:37, 986.14s/it]"
     ]
    },
    {
     "name": "stdout",
     "output_type": "stream",
     "text": [
      "Epoch [1/30], Loss: 0.4334\n"
     ]
    },
    {
     "name": "stderr",
     "output_type": "stream",
     "text": [
      "  7%|████████▎                                                                                                                    | 2/30 [32:56<7:41:22, 988.68s/it]"
     ]
    },
    {
     "name": "stdout",
     "output_type": "stream",
     "text": [
      "Epoch [2/30], Loss: 0.3981\n"
     ]
    },
    {
     "name": "stderr",
     "output_type": "stream",
     "text": [
      " 10%|████████████▍                                                                                                               | 3/30 [49:56<7:31:25, 1003.16s/it]"
     ]
    },
    {
     "name": "stdout",
     "output_type": "stream",
     "text": [
      "Epoch [3/30], Loss: 0.3915\n"
     ]
    },
    {
     "name": "stderr",
     "output_type": "stream",
     "text": [
      " 13%|████████████████▍                                                                                                          | 4/30 [1:06:17<7:10:52, 994.32s/it]"
     ]
    },
    {
     "name": "stdout",
     "output_type": "stream",
     "text": [
      "Epoch [4/30], Loss: 0.3850\n"
     ]
    },
    {
     "name": "stderr",
     "output_type": "stream",
     "text": [
      " 17%|████████████████████▌                                                                                                      | 5/30 [1:22:20<6:49:33, 982.94s/it]"
     ]
    },
    {
     "name": "stdout",
     "output_type": "stream",
     "text": [
      "Epoch [5/30], Loss: 0.3820\n"
     ]
    },
    {
     "name": "stderr",
     "output_type": "stream",
     "text": [
      " 20%|████████████████████████▌                                                                                                  | 6/30 [1:38:34<6:31:56, 979.85s/it]"
     ]
    },
    {
     "name": "stdout",
     "output_type": "stream",
     "text": [
      "Epoch [6/30], Loss: 0.3803\n"
     ]
    },
    {
     "name": "stderr",
     "output_type": "stream",
     "text": [
      " 23%|████████████████████████████▋                                                                                              | 7/30 [1:54:45<6:14:33, 977.11s/it]"
     ]
    },
    {
     "name": "stdout",
     "output_type": "stream",
     "text": [
      "Epoch [7/30], Loss: 0.3766\n"
     ]
    },
    {
     "name": "stderr",
     "output_type": "stream",
     "text": [
      " 27%|████████████████████████████████▊                                                                                          | 8/30 [2:10:48<5:56:38, 972.67s/it]"
     ]
    },
    {
     "name": "stdout",
     "output_type": "stream",
     "text": [
      "Epoch [8/30], Loss: 0.3744\n"
     ]
    },
    {
     "name": "stderr",
     "output_type": "stream",
     "text": [
      " 30%|████████████████████████████████████▉                                                                                      | 9/30 [2:26:55<5:39:45, 970.76s/it]"
     ]
    },
    {
     "name": "stdout",
     "output_type": "stream",
     "text": [
      "Epoch [9/30], Loss: 0.3729\n"
     ]
    },
    {
     "name": "stderr",
     "output_type": "stream",
     "text": [
      " 33%|████████████████████████████████████████▋                                                                                 | 10/30 [2:43:05<5:23:31, 970.60s/it]"
     ]
    },
    {
     "name": "stdout",
     "output_type": "stream",
     "text": [
      "Epoch [10/30], Loss: 0.3710\n"
     ]
    },
    {
     "name": "stderr",
     "output_type": "stream",
     "text": [
      " 37%|████████████████████████████████████████████▋                                                                             | 11/30 [2:59:19<5:07:37, 971.44s/it]"
     ]
    },
    {
     "name": "stdout",
     "output_type": "stream",
     "text": [
      "Epoch [11/30], Loss: 0.3695\n"
     ]
    },
    {
     "name": "stderr",
     "output_type": "stream",
     "text": [
      " 40%|████████████████████████████████████████████████▊                                                                         | 12/30 [3:15:08<4:49:24, 964.68s/it]"
     ]
    },
    {
     "name": "stdout",
     "output_type": "stream",
     "text": [
      "Epoch [12/30], Loss: 0.3693\n"
     ]
    },
    {
     "name": "stderr",
     "output_type": "stream",
     "text": [
      " 43%|████████████████████████████████████████████████████▊                                                                     | 13/30 [3:30:48<4:31:14, 957.35s/it]"
     ]
    },
    {
     "name": "stdout",
     "output_type": "stream",
     "text": [
      "Epoch [13/30], Loss: 0.3681\n"
     ]
    },
    {
     "name": "stderr",
     "output_type": "stream",
     "text": [
      " 47%|████████████████████████████████████████████████████████▉                                                                 | 14/30 [3:46:52<4:15:50, 959.40s/it]"
     ]
    },
    {
     "name": "stdout",
     "output_type": "stream",
     "text": [
      "Epoch [14/30], Loss: 0.3681\n"
     ]
    },
    {
     "name": "stderr",
     "output_type": "stream",
     "text": [
      " 50%|█████████████████████████████████████████████████████████████                                                             | 15/30 [4:02:25<3:57:49, 951.31s/it]"
     ]
    },
    {
     "name": "stdout",
     "output_type": "stream",
     "text": [
      "Epoch [15/30], Loss: 0.3662\n"
     ]
    },
    {
     "name": "stderr",
     "output_type": "stream",
     "text": [
      " 53%|█████████████████████████████████████████████████████████████████                                                         | 16/30 [4:18:38<3:43:30, 957.89s/it]"
     ]
    },
    {
     "name": "stdout",
     "output_type": "stream",
     "text": [
      "Epoch [16/30], Loss: 0.3664\n"
     ]
    },
    {
     "name": "stderr",
     "output_type": "stream",
     "text": [
      " 57%|█████████████████████████████████████████████████████████████████████▏                                                    | 17/30 [4:34:41<3:27:49, 959.22s/it]"
     ]
    },
    {
     "name": "stdout",
     "output_type": "stream",
     "text": [
      "Epoch [17/30], Loss: 0.3649\n"
     ]
    },
    {
     "name": "stderr",
     "output_type": "stream",
     "text": [
      " 60%|█████████████████████████████████████████████████████████████████████████▏                                                | 18/30 [4:50:59<3:13:00, 965.07s/it]"
     ]
    },
    {
     "name": "stdout",
     "output_type": "stream",
     "text": [
      "Epoch [18/30], Loss: 0.3657\n"
     ]
    },
    {
     "name": "stderr",
     "output_type": "stream",
     "text": [
      " 63%|█████████████████████████████████████████████████████████████████████████████▎                                            | 19/30 [5:07:02<2:56:48, 964.40s/it]"
     ]
    },
    {
     "name": "stdout",
     "output_type": "stream",
     "text": [
      "Epoch [19/30], Loss: 0.3655\n"
     ]
    },
    {
     "name": "stderr",
     "output_type": "stream",
     "text": [
      " 67%|█████████████████████████████████████████████████████████████████████████████████▎                                        | 20/30 [5:23:01<2:40:26, 962.70s/it]"
     ]
    },
    {
     "name": "stdout",
     "output_type": "stream",
     "text": [
      "Epoch [20/30], Loss: 0.3627\n"
     ]
    },
    {
     "name": "stderr",
     "output_type": "stream",
     "text": [
      " 70%|█████████████████████████████████████████████████████████████████████████████████████▍                                    | 21/30 [5:39:27<2:25:28, 969.84s/it]"
     ]
    },
    {
     "name": "stdout",
     "output_type": "stream",
     "text": [
      "Epoch [21/30], Loss: 0.3616\n"
     ]
    },
    {
     "name": "stderr",
     "output_type": "stream",
     "text": [
      " 73%|█████████████████████████████████████████████████████████████████████████████████████████▍                                | 22/30 [5:55:24<2:08:46, 965.77s/it]"
     ]
    },
    {
     "name": "stdout",
     "output_type": "stream",
     "text": [
      "Epoch [22/30], Loss: 0.3637\n"
     ]
    },
    {
     "name": "stderr",
     "output_type": "stream",
     "text": [
      " 77%|█████████████████████████████████████████████████████████████████████████████████████████████▌                            | 23/30 [6:11:28<1:52:38, 965.51s/it]"
     ]
    },
    {
     "name": "stdout",
     "output_type": "stream",
     "text": [
      "Epoch [23/30], Loss: 0.3633\n"
     ]
    },
    {
     "name": "stderr",
     "output_type": "stream",
     "text": [
      " 80%|█████████████████████████████████████████████████████████████████████████████████████████████████▌                        | 24/30 [6:27:58<1:37:15, 972.64s/it]"
     ]
    },
    {
     "name": "stdout",
     "output_type": "stream",
     "text": [
      "Epoch [24/30], Loss: 0.3618\n"
     ]
    },
    {
     "name": "stderr",
     "output_type": "stream",
     "text": [
      " 83%|█████████████████████████████████████████████████████████████████████████████████████████████████████▋                    | 25/30 [6:44:47<1:21:57, 983.54s/it]"
     ]
    },
    {
     "name": "stdout",
     "output_type": "stream",
     "text": [
      "Epoch [25/30], Loss: 0.3630\n"
     ]
    },
    {
     "name": "stderr",
     "output_type": "stream",
     "text": [
      " 87%|█████████████████████████████████████████████████████████████████████████████████████████████████████████▋                | 26/30 [7:01:04<1:05:27, 981.75s/it]"
     ]
    },
    {
     "name": "stdout",
     "output_type": "stream",
     "text": [
      "Epoch [26/30], Loss: 0.3616\n"
     ]
    },
    {
     "name": "stderr",
     "output_type": "stream",
     "text": [
      " 90%|███████████████████████████████████████████████████████████████████████████████████████████████████████████████▌            | 27/30 [7:17:18<48:57, 979.27s/it]"
     ]
    },
    {
     "name": "stdout",
     "output_type": "stream",
     "text": [
      "Epoch [27/30], Loss: 0.3614\n"
     ]
    },
    {
     "name": "stderr",
     "output_type": "stream",
     "text": [
      " 93%|███████████████████████████████████████████████████████████████████████████████████████████████████████████████████▋        | 28/30 [7:33:41<32:40, 980.34s/it]"
     ]
    },
    {
     "name": "stdout",
     "output_type": "stream",
     "text": [
      "Epoch [28/30], Loss: 0.3622\n"
     ]
    },
    {
     "name": "stderr",
     "output_type": "stream",
     "text": [
      " 97%|███████████████████████████████████████████████████████████████████████████████████████████████████████████████████████▊    | 29/30 [7:50:25<16:27, 987.58s/it]"
     ]
    },
    {
     "name": "stdout",
     "output_type": "stream",
     "text": [
      "Epoch [29/30], Loss: 0.3612\n"
     ]
    },
    {
     "name": "stderr",
     "output_type": "stream",
     "text": [
      "100%|████████████████████████████████████████████████████████████████████████████████████████████████████████████████████████████| 30/30 [8:07:00<00:00, 974.03s/it]"
     ]
    },
    {
     "name": "stdout",
     "output_type": "stream",
     "text": [
      "Epoch [30/30], Loss: 0.3608\n",
      "Final Accuracy: 84.48%\n"
     ]
    },
    {
     "name": "stderr",
     "output_type": "stream",
     "text": [
      "\n"
     ]
    }
   ],
   "source": [
    "# Train the model\n",
    "num_epochs = 30\n",
    "if torch.cuda.device_count() > 1:\n",
    "    model = nn.DataParallel(model)\n",
    "device = torch.device(\"cuda\" if torch.cuda.is_available() else \"cpu\")\n",
    "model = model.to(device)\n",
    "model.train()\n",
    "\n",
    "# Lists to store training and test loss\n",
    "train_losses = []\n",
    "train_accuracies = []\n",
    "\n",
    "for epoch in tqdm(range(num_epochs)):\n",
    "    running_loss = 0.0\n",
    "    correct = 0\n",
    "    total = 0\n",
    "\n",
    "    for images, labels in train_dataloader:\n",
    "        images = images.to(device)\n",
    "        labels = labels.to(device)\n",
    "\n",
    "        optimizer.zero_grad()\n",
    "\n",
    "        # Forward pass\n",
    "        outputs = model(images)\n",
    "        loss = criterion(outputs, labels)\n",
    "\n",
    "        # Backward pass and optimization\n",
    "        loss.backward()\n",
    "        optimizer.step()\n",
    "\n",
    "        running_loss += loss.item()\n",
    "        # Calculate accuracy\n",
    "        _, predicted = torch.max(outputs.data, 1)\n",
    "        total += labels.size(0)\n",
    "        correct += (predicted == labels).sum().item()\n",
    "        \n",
    "    epoch_loss = running_loss / len(train_dataloader)\n",
    "    train_losses.append(epoch_loss)\n",
    "    print(f\"Epoch [{epoch+1}/{num_epochs}], Loss: {epoch_loss:.4f}\")\n",
    "    epoch_accuracy = 100 * correct / total\n",
    "    train_accuracies.append(epoch_accuracy)\n",
    "# Calculate final accuracy\n",
    "final_accuracy = train_accuracies[-1]\n",
    "print(f\"Final Accuracy: {final_accuracy:.2f}%\")\n",
    "\n",
    "# Save the trained model\n",
    "torch.save(model.state_dict(), 'breast_cancer_model_swin.pth')"
   ]
  },
  {
   "cell_type": "code",
   "execution_count": 9,
   "id": "86dfddf0",
   "metadata": {},
   "outputs": [
    {
     "data": {
      "image/png": "[encoded data removed]",
      "text/plain": [
       "<Figure size 640x480 with 1 Axes>"
      ]
     },
     "metadata": {},
     "output_type": "display_data"
    }
   ],
   "source": [
    "plt.plot(range(num_epochs), train_accuracies)\n",
    "plt.xlabel('Epoch')\n",
    "plt.ylabel('Accuracy (%)')\n",
    "plt.title('Training Accuracy')\n",
    "plt.savefig('Acurve_BCMs.pdf')\n",
    "plt.show()"
   ]
  },
  {
   "cell_type": "code",
   "execution_count": 10,
   "id": "6cbd14d1",
   "metadata": {},
   "outputs": [
    {
     "data": {
      "image/png": "[encoded data removed]",
      "text/plain": [
       "<Figure size 640x480 with 1 Axes>"
      ]
     },
     "metadata": {},
     "output_type": "display_data"
    }
   ],
   "source": [
    "# Plot training over time \n",
    "plt.figure()\n",
    "plt.plot(range(1, num_epochs+1), train_losses, label='Training Loss')\n",
    "plt.xlabel('Epoch')\n",
    "plt.ylabel('Loss')\n",
    "plt.title('Training Loss')\n",
    "plt.legend()\n",
    "plt.savefig('Lcurve_BCM.pdf')\n",
    "plt.show()"
   ]
  },
  {
   "cell_type": "code",
   "execution_count": 13,
   "id": "4b8f53dc",
   "metadata": {},
   "outputs": [
    {
     "name": "stdout",
     "output_type": "stream",
     "text": [
      "Dev Accuracy: 83.33%\n",
      "Dev Loss: 0.3770\n",
      "F1 Score: 0.7318\n"
     ]
    },
    {
     "data": {
      "image/png": "[encoded data removed]",
      "text/plain": [
       "<Figure size 640x480 with 1 Axes>"
      ]
     },
     "metadata": {},
     "output_type": "display_data"
    }
   ],
   "source": [
    "#Evaluate the model\n",
    "dev_dataloader = DataLoader(dev_dataset, batch_size=batch_size, shuffle=False, num_workers=32 ,pin_memory=True)\n",
    "model.eval()\n",
    "correct_predictions = 0\n",
    "total_predictions = 0\n",
    "dev_losses = []\n",
    "predictions = []\n",
    "true_labels = []\n",
    "\n",
    "with torch.no_grad():\n",
    "    for images, labels in dev_dataloader:\n",
    "        images = images.to(device)\n",
    "        labels = labels.to(device)\n",
    "\n",
    "        # Forward pass\n",
    "        outputs = model(images)\n",
    "        _, predicted = torch.max(outputs.data, 1)\n",
    "\n",
    "        total_predictions += labels.size(0)\n",
    "        correct_predictions += (predicted == labels).sum().item()\n",
    "\n",
    "        # Calculate loss\n",
    "        loss = criterion(outputs, labels)\n",
    "        dev_losses.append(loss.item())\n",
    "\n",
    "        predictions.extend(predicted.cpu().numpy())\n",
    "        true_labels.extend(labels.cpu().numpy())\n",
    "\n",
    "    dev_accuracy = 100 * correct_predictions / total_predictions\n",
    "    dev_loss = sum(dev_losses) / len(dev_losses)\n",
    "    print(f\"Dev Accuracy: {dev_accuracy:.2f}%\")\n",
    "    print(f\"Dev Loss: {dev_loss:.4f}\")\n",
    "    # Calculate F1 score\n",
    "    f1 = f1_score(true_labels, predictions)\n",
    "    print(f\"F1 Score: {f1:.4f}\")\n",
    "\n",
    "# Calculate ROC curve\n",
    "fpr, tpr, thresholds = roc_curve(true_labels, predictions)\n",
    "roc_auc = auc(fpr, tpr)\n",
    "\n",
    "# Plot ROC curve\n",
    "plt.figure()\n",
    "plt.plot(fpr, tpr, color='darkorange', lw=2, label='ROC curve (area = %0.2f)' % roc_auc)\n",
    "plt.plot([0, 1], [0, 1], color='navy', lw=2, linestyle='--')\n",
    "plt.xlim([0.0, 1.0])\n",
    "plt.ylim([0.0, 1.05])\n",
    "plt.xlabel('False Positive Rate')\n",
    "plt.ylabel('True Positive Rate')\n",
    "plt.title('Receiver Operating Characteristic')\n",
    "plt.legend(loc=\"lower right\")\n",
    "plt.savefig('ROC_BCMS_dev.pdf')\n",
    "plt.show()"
   ]
  },
  {
   "cell_type": "code",
   "execution_count": 14,
   "id": "85bf97f0",
   "metadata": {
    "id": "85bf97f0",
    "scrolled": false
   },
   "outputs": [
    {
     "name": "stdout",
     "output_type": "stream",
     "text": [
      "Test Accuracy: 82.32%\n",
      "Test Loss: 0.4011\n",
      "F1 Score: 0.7534\n",
      "Confusion Matrix:\n",
      "[[22144  5429]\n",
      " [ 1652 10816]]\n",
      "Balanced Accuracy: 0.8353\n"
     ]
    },
    {
     "data": {
      "image/png": "[encoded data removed]",
      "text/plain": [
       "<Figure size 640x480 with 1 Axes>"
      ]
     },
     "metadata": {},
     "output_type": "display_data"
    }
   ],
   "source": [
    "# Evaluate the model\n",
    "test_dataloader = DataLoader(test_dataset, batch_size=batch_size, shuffle=False, num_workers=32 ,pin_memory=True)\n",
    "model.eval()\n",
    "correct_predictions = 0\n",
    "total_predictions = 0\n",
    "test_losses = []\n",
    "predictions = []\n",
    "true_labels = []\n",
    "\n",
    "with torch.no_grad():\n",
    "    for images, labels in test_dataloader:\n",
    "        images = images.to(device)\n",
    "        labels = labels.to(device)\n",
    "\n",
    "        # Forward pass\n",
    "        outputs = model(images)\n",
    "        _, predicted = torch.max(outputs.data, 1)\n",
    "\n",
    "        total_predictions += labels.size(0)\n",
    "        correct_predictions += (predicted == labels).sum().item()\n",
    "\n",
    "        # Calculate loss\n",
    "        loss = criterion(outputs, labels)\n",
    "        test_losses.append(loss.item())\n",
    "\n",
    "        predictions.extend(predicted.cpu().numpy())\n",
    "        true_labels.extend(labels.cpu().numpy())\n",
    "\n",
    "    test_accuracy = 100 * correct_predictions / total_predictions\n",
    "    test_loss = sum(test_losses) / len(test_losses)\n",
    "    print(f\"Test Accuracy: {test_accuracy:.2f}%\")\n",
    "    print(f\"Test Loss: {test_loss:.4f}\")\n",
    "    \n",
    "    # Calculate F1 score\n",
    "    f1 = f1_score(true_labels, predictions)\n",
    "    print(f\"F1 Score: {f1:.4f}\")\n",
    "    \n",
    "    # Calculate confusion matrix\n",
    "    cm = confusion_matrix(true_labels, predictions)\n",
    "    print(\"Confusion Matrix:\")\n",
    "    print(cm)\n",
    "\n",
    "    # Calculate balanced accuracy\n",
    "    balanced_acc = balanced_accuracy_score(true_labels, predictions)\n",
    "    print(f\"Balanced Accuracy: {balanced_acc:.4f}\")\n",
    "\n",
    "# Calculate ROC curve\n",
    "fpr, tpr, thresholds = roc_curve(true_labels, predictions)\n",
    "roc_auc = auc(fpr, tpr)\n",
    "\n",
    "# Plot ROC curve\n",
    "plt.figure()\n",
    "plt.plot(fpr, tpr, color='darkorange', lw=2, label='ROC curve (area = %0.2f)' % roc_auc)\n",
    "plt.plot([0, 1], [0, 1], color='navy', lw=2, linestyle='--')\n",
    "plt.xlim([0.0, 1.0])\n",
    "plt.ylim([0.0, 1.05])\n",
    "plt.xlabel('False Positive Rate')\n",
    "plt.ylabel('True Positive Rate')\n",
    "plt.title('Receiver Operating Characteristic')\n",
    "plt.legend(loc=\"lower right\")\n",
    "plt.savefig('ROC_BCMS_test.pdf')\n",
    "plt.show()"
   ]
  },
  {
   "cell_type": "markdown",
   "id": "a182564d",
   "metadata": {},
   "source": [
    "Automatic detection of invasive ductal carcinoma in whole slide images with convolutional neural networks: https://www.spiedigitallibrary.org/conference-proceedings-of-spie/9041/904103/Automatic-detection-of-invasive-ductal-carcinoma-in-whole-slide-images/10.1117/12.2043872.short\n",
    "\n",
    "In this paper they used a 3-layer conv.net and achieved in terms of F1 score and balanced accuracy of (71.80%, 84.23%). Our implementation of the Swin Transformer model achieved an F1 score and balanced accuracy of (75.34%, 83.53%) on the test set. "
   ]
  }
 ],
 "metadata": {
  "colab": {
   "gpuType": "T4",
   "provenance": []
  },
  "gpuClass": "standard",
  "kernelspec": {
   "display_name": "Python 3 (ipykernel)",
   "language": "python",
   "name": "python3"
  },
  "language_info": {
   "codemirror_mode": {
    "name": "ipython",
    "version": 3
   },
   "file_extension": ".py",
   "mimetype": "text/x-python",
   "name": "python",
   "nbconvert_exporter": "python",
   "pygments_lexer": "ipython3",
   "version": "3.8.5"
  }
 },
 "nbformat": 4,
 "nbformat_minor": 5
}
